{
 "cells": [
  {
   "cell_type": "markdown",
   "id": "635318da-666f-462c-949f-303ac7fa7d9c",
   "metadata": {},
   "source": [
    "# Question 1"
   ]
  },
  {
   "cell_type": "markdown",
   "id": "6ad6c953-521e-474e-a64c-82c5988c4b5a",
   "metadata": {},
   "source": [
    " Answer= We will use # for comment line. There are two types of comment \n",
    " a) Single line comment"
   ]
  },
  {
   "cell_type": "code",
   "execution_count": 3,
   "id": "33bd7c5e-8445-456b-8874-c0fc93a442b0",
   "metadata": {},
   "outputs": [],
   "source": [
    "# Vishal Shukla"
   ]
  },
  {
   "cell_type": "markdown",
   "id": "52c3c29f-cb3a-4619-a090-7280ec94abb8",
   "metadata": {},
   "source": [
    "b) Multiline comment"
   ]
  },
  {
   "cell_type": "code",
   "execution_count": 4,
   "id": "5ea39897-03a9-437d-9775-fce32d40ba00",
   "metadata": {},
   "outputs": [],
   "source": [
    "# vishal\n",
    "# Shukla\n",
    "# Gwalior"
   ]
  },
  {
   "cell_type": "code",
   "execution_count": 5,
   "id": "5b329479-3154-4bdc-ba01-4792e2b8ec19",
   "metadata": {},
   "outputs": [
    {
     "data": {
      "text/plain": [
       "'Vishal\\nShukla\\nGwalior\\n'"
      ]
     },
     "execution_count": 5,
     "metadata": {},
     "output_type": "execute_result"
    }
   ],
   "source": [
    "\"\"\"Vishal\n",
    "Shukla\n",
    "Gwalior\n",
    "\"\"\""
   ]
  },
  {
   "cell_type": "markdown",
   "id": "2cb6e765-933f-459c-a468-2b7257ddf2dc",
   "metadata": {},
   "source": [
    "# Question 2"
   ]
  },
  {
   "cell_type": "markdown",
   "id": "b65d4837-9858-4805-9f20-75b7dcdee15c",
   "metadata": {},
   "source": [
    " Answer= A variable is a string of characters and numbers associated with some assign value. The assignment operator, denoted by the “=” symbol, is the operator that is used to assign values to variables in Python.  Example a=5"
   ]
  },
  {
   "cell_type": "code",
   "execution_count": 6,
   "id": "8f1ec86e-4914-4307-829e-b9b14537659a",
   "metadata": {},
   "outputs": [],
   "source": [
    "a=5"
   ]
  },
  {
   "cell_type": "code",
   "execution_count": 7,
   "id": "a19b679e-3031-4ba9-b42e-2b61beead237",
   "metadata": {},
   "outputs": [
    {
     "data": {
      "text/plain": [
       "5"
      ]
     },
     "execution_count": 7,
     "metadata": {},
     "output_type": "execute_result"
    }
   ],
   "source": [
    "a"
   ]
  },
  {
   "cell_type": "markdown",
   "id": "7bd3a958-a769-4c29-849b-28fcba68e9bb",
   "metadata": {},
   "source": [
    "# Question 3"
   ]
  },
  {
   "cell_type": "markdown",
   "id": "68e5c82c-6619-48c1-ba73-49736c16ca39",
   "metadata": {},
   "source": [
    "Answer= We can change data type by writing new data type in command line. example given below"
   ]
  },
  {
   "cell_type": "code",
   "execution_count": 8,
   "id": "a97e38cf-c26f-46dc-8bf0-6f74acdd7f74",
   "metadata": {},
   "outputs": [],
   "source": [
    "a=5"
   ]
  },
  {
   "cell_type": "code",
   "execution_count": 9,
   "id": "c26b8a71-d9a6-4554-afc8-9b896ff11a23",
   "metadata": {},
   "outputs": [
    {
     "data": {
      "text/plain": [
       "int"
      ]
     },
     "execution_count": 9,
     "metadata": {},
     "output_type": "execute_result"
    }
   ],
   "source": [
    "type(a)"
   ]
  },
  {
   "cell_type": "code",
   "execution_count": 12,
   "id": "16ad88dc-2539-42ca-a5f5-bee970c23579",
   "metadata": {},
   "outputs": [
    {
     "data": {
      "text/plain": [
       "'5'"
      ]
     },
     "execution_count": 12,
     "metadata": {},
     "output_type": "execute_result"
    }
   ],
   "source": [
    "str(a)"
   ]
  },
  {
   "cell_type": "markdown",
   "id": "a62f3903-ca2a-4007-8f5f-23f2cbc5ede3",
   "metadata": {},
   "source": [
    "# Question 4"
   ]
  },
  {
   "cell_type": "markdown",
   "id": "b3639f47-af91-43da-8270-a5ac806ae813",
   "metadata": {},
   "source": [
    "Answer =The most basic and easy way to run a Python script is by using the python command. You need to open a command line and type the word python followed by the path to your script file like this:\n",
    "python script.py\n",
    "Hello World!\n",
    "\n"
   ]
  },
  {
   "cell_type": "markdown",
   "id": "c29c70d2-0898-4b80-b80d-c6442c91ff60",
   "metadata": {},
   "source": [
    "# Question 5"
   ]
  },
  {
   "cell_type": "code",
   "execution_count": 20,
   "id": "5638a24b-405e-4cdc-a429-6d3afb76d5b1",
   "metadata": {},
   "outputs": [],
   "source": [
    "a=[1,2,3,4,5]"
   ]
  },
  {
   "cell_type": "code",
   "execution_count": 21,
   "id": "dc15e622-967b-491f-bcd4-83b1dd4c021f",
   "metadata": {},
   "outputs": [
    {
     "data": {
      "text/plain": [
       "[1, 2, 3, 4, 5]"
      ]
     },
     "execution_count": 21,
     "metadata": {},
     "output_type": "execute_result"
    }
   ],
   "source": [
    "a[::1]"
   ]
  },
  {
   "cell_type": "code",
   "execution_count": 22,
   "id": "d73ca090-9abf-49da-b76e-8b2958c9fd28",
   "metadata": {},
   "outputs": [
    {
     "data": {
      "text/plain": [
       "[2, 3]"
      ]
     },
     "execution_count": 22,
     "metadata": {},
     "output_type": "execute_result"
    }
   ],
   "source": [
    "a[1:3]"
   ]
  },
  {
   "cell_type": "markdown",
   "id": "b6d5b7d5-8200-4c35-8c83-a2ce39bb73a5",
   "metadata": {},
   "source": [
    "# Question 6"
   ]
  },
  {
   "cell_type": "markdown",
   "id": "97d96cf4-6884-4e6d-bc11-406769ad34e7",
   "metadata": {},
   "source": [
    "Answer= Complex number has both real and imaginary number in which imaginary number is denoted by i in mathematics but in phython it is denoted by j. for example \n",
    "3+ 2j"
   ]
  },
  {
   "cell_type": "code",
   "execution_count": 23,
   "id": "33849451-038f-4428-8b59-d7b3fc47b9f7",
   "metadata": {},
   "outputs": [],
   "source": [
    "a=3+2j"
   ]
  },
  {
   "cell_type": "code",
   "execution_count": 24,
   "id": "4e6fff72-feef-432e-b70f-aee17ac93139",
   "metadata": {},
   "outputs": [
    {
     "data": {
      "text/plain": [
       "complex"
      ]
     },
     "execution_count": 24,
     "metadata": {},
     "output_type": "execute_result"
    }
   ],
   "source": [
    "type(a)"
   ]
  },
  {
   "cell_type": "code",
   "execution_count": 25,
   "id": "e6d85085-1430-40e0-8d2f-c60614b26977",
   "metadata": {},
   "outputs": [
    {
     "data": {
      "text/plain": [
       "2.0"
      ]
     },
     "execution_count": 25,
     "metadata": {},
     "output_type": "execute_result"
    }
   ],
   "source": [
    "a.imag"
   ]
  },
  {
   "cell_type": "code",
   "execution_count": 26,
   "id": "bbfcfbe6-efcb-4617-9c13-ebbc6cbc9068",
   "metadata": {},
   "outputs": [
    {
     "data": {
      "text/plain": [
       "3.0"
      ]
     },
     "execution_count": 26,
     "metadata": {},
     "output_type": "execute_result"
    }
   ],
   "source": [
    "a.real"
   ]
  },
  {
   "cell_type": "markdown",
   "id": "6db3d781-7367-438a-8984-8e7e04a90070",
   "metadata": {},
   "source": [
    "# Question 7"
   ]
  },
  {
   "cell_type": "code",
   "execution_count": 27,
   "id": "9f1cc44c-ef48-4d54-9e95-8eacafe0fa6b",
   "metadata": {},
   "outputs": [],
   "source": [
    "age = 25"
   ]
  },
  {
   "cell_type": "code",
   "execution_count": 28,
   "id": "6ccfbdb7-9156-49e1-93b4-3d664f99d8c9",
   "metadata": {},
   "outputs": [
    {
     "data": {
      "text/plain": [
       "25"
      ]
     },
     "execution_count": 28,
     "metadata": {},
     "output_type": "execute_result"
    }
   ],
   "source": [
    "age"
   ]
  },
  {
   "cell_type": "markdown",
   "id": "06f8849f-4ef6-46c5-90c8-0911046e1453",
   "metadata": {},
   "source": [
    "# Question 8"
   ]
  },
  {
   "cell_type": "code",
   "execution_count": 29,
   "id": "c5994065-f577-4e68-a4ba-687e97c58d83",
   "metadata": {},
   "outputs": [],
   "source": [
    "price=9.99"
   ]
  },
  {
   "cell_type": "code",
   "execution_count": 30,
   "id": "b8b99e97-b6dc-415d-a0cf-284c99b69fae",
   "metadata": {},
   "outputs": [
    {
     "data": {
      "text/plain": [
       "float"
      ]
     },
     "execution_count": 30,
     "metadata": {},
     "output_type": "execute_result"
    }
   ],
   "source": [
    "type(price)"
   ]
  },
  {
   "cell_type": "markdown",
   "id": "2c5af7af-2df0-4e9d-80d7-1b97eb17f6b3",
   "metadata": {},
   "source": [
    "# Question 9"
   ]
  },
  {
   "cell_type": "code",
   "execution_count": 31,
   "id": "b4075e49-7786-4dfa-8b7c-08a1ec1e85fc",
   "metadata": {},
   "outputs": [],
   "source": [
    "name='Vishal Shukla'"
   ]
  },
  {
   "cell_type": "code",
   "execution_count": 32,
   "id": "afa0ef2f-3ec3-416d-9e59-e73065068ac7",
   "metadata": {},
   "outputs": [
    {
     "name": "stdout",
     "output_type": "stream",
     "text": [
      "Vishal Shukla\n"
     ]
    }
   ],
   "source": [
    "print(name)"
   ]
  },
  {
   "cell_type": "markdown",
   "id": "7d88a396-52de-4023-98d5-e7317ef4e56c",
   "metadata": {},
   "source": [
    "# Question 10"
   ]
  },
  {
   "cell_type": "code",
   "execution_count": 33,
   "id": "e038903b-bd4c-4937-a74f-3a2265336ec9",
   "metadata": {},
   "outputs": [],
   "source": [
    "a=\"Hello,World!\""
   ]
  },
  {
   "cell_type": "code",
   "execution_count": 34,
   "id": "de740602-9e64-46f0-9125-df546b4c488e",
   "metadata": {},
   "outputs": [
    {
     "data": {
      "text/plain": [
       "'World'"
      ]
     },
     "execution_count": 34,
     "metadata": {},
     "output_type": "execute_result"
    }
   ],
   "source": [
    "a[6:11:1]"
   ]
  },
  {
   "cell_type": "markdown",
   "id": "98dce8e4-3602-4515-ba99-c845b7b5fcc0",
   "metadata": {},
   "source": [
    "# Question 11"
   ]
  },
  {
   "cell_type": "code",
   "execution_count": 37,
   "id": "182b0554-f8fb-4e59-8f5d-d839ff492420",
   "metadata": {},
   "outputs": [],
   "source": [
    "Name= \"Vishal\"\n",
    "Age= 25\n",
    "is_student = True"
   ]
  },
  {
   "cell_type": "code",
   "execution_count": 39,
   "id": "f5b9ee2d-8369-4823-ac49-455834bdd55b",
   "metadata": {},
   "outputs": [
    {
     "name": "stdout",
     "output_type": "stream",
     "text": [
      "Vishal Shukla age is 25  is a student= True\n"
     ]
    }
   ],
   "source": [
    "print(name, 'age is', age ,\" is a student=\", is_student)"
   ]
  },
  {
   "cell_type": "code",
   "execution_count": null,
   "id": "b8d8abc5-0de4-44fa-b858-29a2016e5f94",
   "metadata": {},
   "outputs": [],
   "source": []
  }
 ],
 "metadata": {
  "kernelspec": {
   "display_name": "Python 3 (ipykernel)",
   "language": "python",
   "name": "python3"
  },
  "language_info": {
   "codemirror_mode": {
    "name": "ipython",
    "version": 3
   },
   "file_extension": ".py",
   "mimetype": "text/x-python",
   "name": "python",
   "nbconvert_exporter": "python",
   "pygments_lexer": "ipython3",
   "version": "3.10.8"
  }
 },
 "nbformat": 4,
 "nbformat_minor": 5
}
